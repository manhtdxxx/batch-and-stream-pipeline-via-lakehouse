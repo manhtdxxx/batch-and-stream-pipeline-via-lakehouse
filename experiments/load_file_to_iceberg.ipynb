{
 "cells": [
  {
   "cell_type": "code",
   "execution_count": 1,
   "id": "9269927d",
   "metadata": {},
   "outputs": [],
   "source": [
    "import os\n",
    "from pyspark.sql import SparkSession\n",
    "from pyspark.sql.types import *\n",
    "from pyspark.sql.functions import *"
   ]
  },
  {
   "cell_type": "code",
   "execution_count": 2,
   "id": "b9e277d9",
   "metadata": {},
   "outputs": [],
   "source": [
    "jars_dir = \"jars\"\n",
    "jars = [\n",
    "    os.path.join(jars_dir, \"iceberg-spark-runtime-3.5_2.12-1.5.0.jar\"),\n",
    "    os.path.join(jars_dir, \"hadoop-aws-3.3.4.jar\"),\n",
    "    os.path.join(jars_dir, \"aws-java-sdk-bundle-1.12.262.jar\")\n",
    "]\n",
    "\n",
    "data_dir = \"../data\"\n",
    "file_path = os.path.join(data_dir, \"company.csv\")"
   ]
  },
  {
   "cell_type": "code",
   "execution_count": 3,
   "id": "37c08da2",
   "metadata": {},
   "outputs": [],
   "source": [
    "spark = SparkSession.builder \\\n",
    "    .appName(\"LoadFileToIceberg\") \\\n",
    "    .config(\"spark.sql.extensions\", \"org.apache.iceberg.spark.extensions.IcebergSparkSessionExtensions\") \\\n",
    "    .config(\"spark.sql.catalog.iceberg\", \"org.apache.iceberg.spark.SparkCatalog\") \\\n",
    "    .config(\"spark.sql.catalog.iceberg.type\", \"hive\") \\\n",
    "    .config(\"spark.sql.catalog.iceberg.uri\", \"thrift://localhost:9083\") \\\n",
    "    .config(\"spark.sql.catalog.iceberg.warehouse\", \"s3a://lakehouse\") \\\n",
    "    .config(\"spark.hadoop.fs.s3a.endpoint\", \"http://localhost:9000\") \\\n",
    "    .config(\"spark.hadoop.fs.s3a.access.key\", \"minio\") \\\n",
    "    .config(\"spark.hadoop.fs.s3a.secret.key\", \"minio123\") \\\n",
    "    .config(\"spark.hadoop.fs.s3a.path.style.access\", \"true\") \\\n",
    "    .config(\"spark.hadoop.fs.s3a.connection.ssl.enabled\", \"false\") \\\n",
    "    .config(\"spark.hadoop.fs.s3a.impl\", \"org.apache.hadoop.fs.s3a.S3AFileSystem\") \\\n",
    "    .config(\"spark.jars\", \",\".join(jars)) \\\n",
    "    .getOrCreate()"
   ]
  },
  {
   "cell_type": "code",
   "execution_count": 4,
   "id": "025e8c43",
   "metadata": {},
   "outputs": [
    {
     "name": "stdout",
     "output_type": "stream",
     "text": [
      "+------+--------------------+---------+---------+---------+---------+-----------+\n",
      "|symbol|          organ_name|icb_code1|icb_code2|icb_code3|icb_code4|issue_share|\n",
      "+------+--------------------+---------+---------+---------+---------+-----------+\n",
      "|   ACB|Ngân hàng Thương ...|     8301|     8300|     8350|     8355| 5136656599|\n",
      "|   BCM|Tổng Công ty Đầu ...|     8000|     8600|     8630|     8633| 1035000000|\n",
      "|   BID|Ngân hàng Thương ...|     8301|     8300|     8350|     8355| 7021361917|\n",
      "|   CTG|Ngân hàng Thương ...|     8301|     8300|     8350|     8355| 5369991748|\n",
      "|   DGC|Công ty Cổ phần T...|     1000|     1300|     1350|     1357|  379779286|\n",
      "+------+--------------------+---------+---------+---------+---------+-----------+\n",
      "only showing top 5 rows\n",
      "\n"
     ]
    }
   ],
   "source": [
    "df = spark.read.csv(file_path, header=True, inferSchema=True)\n",
    "df.show(5)"
   ]
  },
  {
   "cell_type": "code",
   "execution_count": 5,
   "id": "80753a87",
   "metadata": {},
   "outputs": [
    {
     "name": "stdout",
     "output_type": "stream",
     "text": [
      "root\n",
      " |-- symbol: string (nullable = true)\n",
      " |-- organ_name: string (nullable = true)\n",
      " |-- icb_code1: integer (nullable = true)\n",
      " |-- icb_code2: integer (nullable = true)\n",
      " |-- icb_code3: integer (nullable = true)\n",
      " |-- icb_code4: integer (nullable = true)\n",
      " |-- issue_share: long (nullable = true)\n",
      "\n"
     ]
    }
   ],
   "source": [
    "df.printSchema()"
   ]
  },
  {
   "cell_type": "code",
   "execution_count": 6,
   "id": "d89727ed",
   "metadata": {},
   "outputs": [
    {
     "data": {
      "text/plain": [
       "DataFrame[]"
      ]
     },
     "execution_count": 6,
     "metadata": {},
     "output_type": "execute_result"
    }
   ],
   "source": [
    "spark.sql(\"CREATE SCHEMA IF NOT EXISTS iceberg.demo_db\")\n",
    "spark.sql(\"DROP TABLE IF EXISTS iceberg.demo_db.raw_company\")"
   ]
  },
  {
   "cell_type": "code",
   "execution_count": 7,
   "id": "2b6f2b9f",
   "metadata": {},
   "outputs": [],
   "source": [
    "# spark.sql(\"\"\"\n",
    "# CREATE EXTERNAL TABLE IF NOT EXISTS iceberg.demo_db.raw_company (\n",
    "#     symbol STRING,\n",
    "#     organ_name STRING,\n",
    "#     icb_code1 INT,\n",
    "#     icb_code2 INT,\n",
    "#     icb_code3 INT,\n",
    "#     icb_code4 INT,\n",
    "#     issue_share BIGINT\n",
    "# )\n",
    "# USING iceberg\n",
    "# \"\"\")"
   ]
  },
  {
   "cell_type": "code",
   "execution_count": 13,
   "id": "cad94ceb",
   "metadata": {},
   "outputs": [],
   "source": [
    "# saveAsTable() method automatically creates table if not exist\n",
    "df.write.format(\"iceberg\") \\\n",
    "    .mode(\"append\") \\\n",
    "    .saveAsTable(\"iceberg.demo_db.raw_company\")"
   ]
  },
  {
   "cell_type": "code",
   "execution_count": 9,
   "id": "35180f38",
   "metadata": {},
   "outputs": [],
   "source": [
    "# table must exists first\n",
    "df.writeTo(\"iceberg.demo_db.raw_company\").append()"
   ]
  },
  {
   "cell_type": "code",
   "execution_count": 14,
   "id": "faa99cc7",
   "metadata": {},
   "outputs": [
    {
     "data": {
      "text/plain": [
       "90"
      ]
     },
     "execution_count": 14,
     "metadata": {},
     "output_type": "execute_result"
    }
   ],
   "source": [
    "df_raw_company = spark.read.table(\"iceberg.demo_db.raw_company\")\n",
    "df_raw_company.count()"
   ]
  },
  {
   "cell_type": "code",
   "execution_count": 15,
   "id": "16853736",
   "metadata": {},
   "outputs": [
    {
     "name": "stdout",
     "output_type": "stream",
     "text": [
      "+--------------------+-------------------+-------------------+---------+--------------------+--------------------+\n",
      "|        committed_at|        snapshot_id|          parent_id|operation|       manifest_list|             summary|\n",
      "+--------------------+-------------------+-------------------+---------+--------------------+--------------------+\n",
      "|2025-08-28 17:20:...|7603303508460291768|               NULL|   append|s3a://lakehouse/d...|{spark.app.id -> ...|\n",
      "|2025-08-28 17:20:...|2056573517944637087|7603303508460291768|   append|s3a://lakehouse/d...|{spark.app.id -> ...|\n",
      "|2025-08-28 17:21:...|5508920788623149749|2056573517944637087|   append|s3a://lakehouse/d...|{spark.app.id -> ...|\n",
      "+--------------------+-------------------+-------------------+---------+--------------------+--------------------+\n",
      "\n"
     ]
    }
   ],
   "source": [
    "spark.sql(\"SELECT * FROM iceberg.demo_db.raw_company.snapshots\").show()"
   ]
  },
  {
   "cell_type": "code",
   "execution_count": 12,
   "id": "b54b1b8e",
   "metadata": {},
   "outputs": [
    {
     "name": "stdout",
     "output_type": "stream",
     "text": [
      "+----------------------------+----------------------------------------------------------------------------------------------------------------------+-------+\n",
      "|col_name                    |data_type                                                                                                             |comment|\n",
      "+----------------------------+----------------------------------------------------------------------------------------------------------------------+-------+\n",
      "|symbol                      |string                                                                                                                |NULL   |\n",
      "|organ_name                  |string                                                                                                                |NULL   |\n",
      "|icb_code1                   |int                                                                                                                   |NULL   |\n",
      "|icb_code2                   |int                                                                                                                   |NULL   |\n",
      "|icb_code3                   |int                                                                                                                   |NULL   |\n",
      "|icb_code4                   |int                                                                                                                   |NULL   |\n",
      "|issue_share                 |bigint                                                                                                                |NULL   |\n",
      "|                            |                                                                                                                      |       |\n",
      "|# Metadata Columns          |                                                                                                                      |       |\n",
      "|_spec_id                    |int                                                                                                                   |       |\n",
      "|_partition                  |struct<>                                                                                                              |       |\n",
      "|_file                       |string                                                                                                                |       |\n",
      "|_pos                        |bigint                                                                                                                |       |\n",
      "|_deleted                    |boolean                                                                                                               |       |\n",
      "|                            |                                                                                                                      |       |\n",
      "|# Detailed Table Information|                                                                                                                      |       |\n",
      "|Name                        |iceberg.demo_db.raw_company                                                                                           |       |\n",
      "|Type                        |MANAGED                                                                                                               |       |\n",
      "|Location                    |s3a://lakehouse/demo_db.db/raw_company                                                                                |       |\n",
      "|Provider                    |iceberg                                                                                                               |       |\n",
      "|Owner                       |manh                                                                                                                  |       |\n",
      "|Table Properties            |[current-snapshot-id=2056573517944637087,format=iceberg/parquet,format-version=2,write.parquet.compression-codec=zstd]|       |\n",
      "+----------------------------+----------------------------------------------------------------------------------------------------------------------+-------+\n",
      "\n"
     ]
    }
   ],
   "source": [
    "spark.sql(\"DESCRIBE EXTENDED iceberg.demo_db.raw_company\").show(100, False)"
   ]
  },
  {
   "cell_type": "code",
   "execution_count": null,
   "id": "9f503796",
   "metadata": {},
   "outputs": [],
   "source": []
  }
 ],
 "metadata": {
  "kernelspec": {
   "display_name": "Python 3",
   "language": "python",
   "name": "python3"
  },
  "language_info": {
   "codemirror_mode": {
    "name": "ipython",
    "version": 3
   },
   "file_extension": ".py",
   "mimetype": "text/x-python",
   "name": "python",
   "nbconvert_exporter": "python",
   "pygments_lexer": "ipython3",
   "version": "3.10.11"
  }
 },
 "nbformat": 4,
 "nbformat_minor": 5
}
