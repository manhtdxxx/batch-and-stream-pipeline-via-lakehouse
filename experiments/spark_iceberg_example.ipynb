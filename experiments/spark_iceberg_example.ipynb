{
 "cells": [
  {
   "cell_type": "code",
   "execution_count": 1,
   "id": "a66b4fae",
   "metadata": {},
   "outputs": [],
   "source": [
    "import os\n",
    "from pyspark.sql import SparkSession\n",
    "from pyspark.sql.types import *\n",
    "from pyspark.sql.functions import *"
   ]
  },
  {
   "cell_type": "code",
   "execution_count": 2,
   "id": "a2e30487",
   "metadata": {},
   "outputs": [],
   "source": [
    "# In my local, I've already install pyspark 3.5.3 to test\n",
    "# So the version of jars will be different from jars to run spark in container\n",
    "jars_dir = \"jars\"\n",
    "jars = [\n",
    "    os.path.join(jars_dir, \"iceberg-spark-runtime-3.5_2.12-1.5.0.jar\"),\n",
    "    os.path.join(jars_dir, \"hadoop-aws-3.3.4.jar\"),\n",
    "    os.path.join(jars_dir, \"aws-java-sdk-bundle-1.12.262.jar\")\n",
    "]"
   ]
  },
  {
   "cell_type": "code",
   "execution_count": 3,
   "id": "0c7f33b2",
   "metadata": {},
   "outputs": [],
   "source": [
    "spark = SparkSession.builder \\\n",
    "    .appName(\"IcebergDemo\") \\\n",
    "    .config(\"spark.sql.extensions\", \"org.apache.iceberg.spark.extensions.IcebergSparkSessionExtensions\") \\\n",
    "    .config(\"spark.sql.catalog.iceberg\", \"org.apache.iceberg.spark.SparkCatalog\") \\\n",
    "    .config(\"spark.sql.catalog.iceberg.type\", \"hive\") \\\n",
    "    .config(\"spark.sql.catalog.iceberg.uri\", \"thrift://localhost:9083\") \\\n",
    "    .config(\"spark.sql.catalog.iceberg.warehouse\", \"s3a://lakehouse\") \\\n",
    "    .config(\"spark.hadoop.fs.s3a.endpoint\", \"http://localhost:9000\") \\\n",
    "    .config(\"spark.hadoop.fs.s3a.access.key\", \"minio\") \\\n",
    "    .config(\"spark.hadoop.fs.s3a.secret.key\", \"minio123\") \\\n",
    "    .config(\"spark.hadoop.fs.s3a.path.style.access\", \"true\") \\\n",
    "    .config(\"spark.hadoop.fs.s3a.connection.ssl.enabled\", \"false\") \\\n",
    "    .config(\"spark.hadoop.fs.s3a.impl\", \"org.apache.hadoop.fs.s3a.S3AFileSystem\") \\\n",
    "    .config(\"spark.jars\", \",\".join(jars)) \\\n",
    "    .getOrCreate()"
   ]
  },
  {
   "cell_type": "code",
   "execution_count": 4,
   "id": "21ad96b7",
   "metadata": {},
   "outputs": [
    {
     "data": {
      "text/plain": [
       "DataFrame[]"
      ]
     },
     "execution_count": 4,
     "metadata": {},
     "output_type": "execute_result"
    }
   ],
   "source": [
    "spark.sql(\"CREATE SCHEMA IF NOT EXISTS iceberg.demo_db\")"
   ]
  },
  {
   "cell_type": "code",
   "execution_count": 5,
   "id": "dd247595",
   "metadata": {},
   "outputs": [
    {
     "name": "stdout",
     "output_type": "stream",
     "text": [
      "+---------+\n",
      "|namespace|\n",
      "+---------+\n",
      "|  default|\n",
      "|  demo_db|\n",
      "+---------+\n",
      "\n"
     ]
    }
   ],
   "source": [
    "spark.sql(\"SHOW SCHEMAS IN iceberg\").show()"
   ]
  },
  {
   "cell_type": "code",
   "execution_count": 6,
   "id": "0b24111f",
   "metadata": {},
   "outputs": [
    {
     "data": {
      "text/plain": [
       "DataFrame[]"
      ]
     },
     "execution_count": 6,
     "metadata": {},
     "output_type": "execute_result"
    }
   ],
   "source": [
    "spark.sql(\"DROP TABLE IF EXISTS iceberg.demo_db.orders\")\n",
    "spark.sql(\"\"\"\n",
    "CREATE TABLE IF NOT EXISTS iceberg.demo_db.orders (\n",
    "    order_id INT,\n",
    "    customer STRING,\n",
    "    total DOUBLE\n",
    ")\n",
    "USING iceberg\n",
    "PARTITIONED BY (customer)\n",
    "\"\"\")"
   ]
  },
  {
   "cell_type": "code",
   "execution_count": 7,
   "id": "f10c0efc",
   "metadata": {},
   "outputs": [
    {
     "data": {
      "text/plain": [
       "DataFrame[]"
      ]
     },
     "execution_count": 7,
     "metadata": {},
     "output_type": "execute_result"
    }
   ],
   "source": [
    "# Commit 1\n",
    "spark.sql(\"\"\"\n",
    "INSERT INTO iceberg.demo_db.orders VALUES\n",
    "(101, 'Alice', 150.0),\n",
    "(102, 'Bob', 200.0)\n",
    "\"\"\")"
   ]
  },
  {
   "cell_type": "code",
   "execution_count": 8,
   "id": "269baacc",
   "metadata": {},
   "outputs": [
    {
     "data": {
      "text/plain": [
       "DataFrame[]"
      ]
     },
     "execution_count": 8,
     "metadata": {},
     "output_type": "execute_result"
    }
   ],
   "source": [
    "# Commit 2\n",
    "spark.sql(\"\"\"\n",
    "INSERT INTO iceberg.demo_db.orders VALUES\n",
    "(103, 'Alice', 120.0),\n",
    "(104, 'Bob', 80.0)\n",
    "\"\"\")"
   ]
  },
  {
   "cell_type": "code",
   "execution_count": 9,
   "id": "2630f00f",
   "metadata": {},
   "outputs": [
    {
     "data": {
      "text/plain": [
       "DataFrame[]"
      ]
     },
     "execution_count": 9,
     "metadata": {},
     "output_type": "execute_result"
    }
   ],
   "source": [
    "# Commit 3\n",
    "spark.sql(\"\"\"\n",
    "INSERT INTO iceberg.demo_db.orders VALUES\n",
    "(105, 'Charlie', 300.0)\n",
    "\"\"\")"
   ]
  },
  {
   "cell_type": "code",
   "execution_count": 10,
   "id": "e3b8c66b",
   "metadata": {},
   "outputs": [
    {
     "name": "stdout",
     "output_type": "stream",
     "text": [
      "+--------+--------+-----+\n",
      "|order_id|customer|total|\n",
      "+--------+--------+-----+\n",
      "|     103|   Alice|120.0|\n",
      "|     105| Charlie|300.0|\n",
      "|     101|   Alice|150.0|\n",
      "|     102|     Bob|200.0|\n",
      "|     104|     Bob| 80.0|\n",
      "+--------+--------+-----+\n",
      "\n"
     ]
    }
   ],
   "source": [
    "# Select data from the latest snapshot\n",
    "spark.sql(\"SELECT * FROM iceberg.demo_db.orders\").show()\n"
   ]
  },
  {
   "cell_type": "code",
   "execution_count": 11,
   "id": "d9281a4a",
   "metadata": {},
   "outputs": [
    {
     "name": "stdout",
     "output_type": "stream",
     "text": [
      "+--------------------+-------------------+-------------------+---------+--------------------+--------------------+\n",
      "|        committed_at|        snapshot_id|          parent_id|operation|       manifest_list|             summary|\n",
      "+--------------------+-------------------+-------------------+---------+--------------------+--------------------+\n",
      "|2025-08-28 00:34:...|5570114856354120561|               NULL|   append|s3a://lakehouse/d...|{spark.app.id -> ...|\n",
      "|2025-08-28 00:34:...|6700329282917040000|5570114856354120561|   append|s3a://lakehouse/d...|{spark.app.id -> ...|\n",
      "|2025-08-28 00:34:...|6357762267462539226|6700329282917040000|   append|s3a://lakehouse/d...|{spark.app.id -> ...|\n",
      "+--------------------+-------------------+-------------------+---------+--------------------+--------------------+\n",
      "\n"
     ]
    }
   ],
   "source": [
    "# View the snapshot history of the table\n",
    "spark.sql(\"SELECT * FROM iceberg.demo_db.orders.snapshots\").show()"
   ]
  },
  {
   "cell_type": "code",
   "execution_count": 13,
   "id": "722e9292",
   "metadata": {},
   "outputs": [
    {
     "name": "stdout",
     "output_type": "stream",
     "text": [
      "+--------+--------+-----+\n",
      "|order_id|customer|total|\n",
      "+--------+--------+-----+\n",
      "|     101|   Alice|150.0|\n",
      "|     103|   Alice|120.0|\n",
      "|     102|     Bob|200.0|\n",
      "|     104|     Bob| 80.0|\n",
      "+--------+--------+-----+\n",
      "\n"
     ]
    }
   ],
   "source": [
    "snapshot_id_orders = 6700329282917040000\n",
    "spark.sql(f\"SELECT * FROM iceberg.demo_db.orders FOR VERSION AS OF {snapshot_id_orders}\").show()"
   ]
  }
 ],
 "metadata": {
  "kernelspec": {
   "display_name": "Python 3",
   "language": "python",
   "name": "python3"
  },
  "language_info": {
   "codemirror_mode": {
    "name": "ipython",
    "version": 3
   },
   "file_extension": ".py",
   "mimetype": "text/x-python",
   "name": "python",
   "nbconvert_exporter": "python",
   "pygments_lexer": "ipython3",
   "version": "3.10.11"
  }
 },
 "nbformat": 4,
 "nbformat_minor": 5
}
